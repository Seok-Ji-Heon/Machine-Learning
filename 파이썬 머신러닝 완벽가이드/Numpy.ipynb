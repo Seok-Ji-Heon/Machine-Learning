{
 "cells": [
  {
   "cell_type": "code",
   "execution_count": 2,
   "metadata": {},
   "outputs": [],
   "source": [
    "## Numpy 공부"
   ]
  },
  {
   "cell_type": "code",
   "execution_count": 4,
   "metadata": {},
   "outputs": [],
   "source": [
    "import numpy as np"
   ]
  },
  {
   "cell_type": "code",
   "execution_count": 6,
   "metadata": {},
   "outputs": [
    {
     "data": {
      "text/plain": [
       "array([1, 2, 3])"
      ]
     },
     "execution_count": 6,
     "metadata": {},
     "output_type": "execute_result"
    }
   ],
   "source": [
    "array1=np.array([1,2,3])\n",
    "array1"
   ]
  },
  {
   "cell_type": "code",
   "execution_count": 11,
   "metadata": {},
   "outputs": [
    {
     "name": "stdout",
     "output_type": "stream",
     "text": [
      "array1 type: <class 'numpy.ndarray'> array1 shape: (3,)\n"
     ]
    }
   ],
   "source": [
    "print(f'array1 type: {type(array1)} array1 shape: {array1.shape}')"
   ]
  },
  {
   "cell_type": "code",
   "execution_count": 12,
   "metadata": {},
   "outputs": [
    {
     "name": "stdout",
     "output_type": "stream",
     "text": [
      "array2 type: <class 'numpy.ndarray'> array2 shape : (2, 3)\n"
     ]
    }
   ],
   "source": [
    "array2=np.array([[1,2,3],[2,3,4]])\n",
    "print(f'array2 type: {type(array2)} array2 shape : {array2.shape}')"
   ]
  },
  {
   "cell_type": "code",
   "execution_count": 13,
   "metadata": {},
   "outputs": [
    {
     "name": "stdout",
     "output_type": "stream",
     "text": [
      "array3 type: <class 'numpy.ndarray'> array3 shape : (1, 3)\n"
     ]
    }
   ],
   "source": [
    "array3=np.array([[1,2,3]])\n",
    "print(f'array3 type: {type(array3)} array3 shape : {array3.shape}')"
   ]
  },
  {
   "cell_type": "code",
   "execution_count": 15,
   "metadata": {},
   "outputs": [
    {
     "name": "stdout",
     "output_type": "stream",
     "text": [
      "array1의 차원은 1, array2의 차원은 2, array3의 차원은 2\n"
     ]
    }
   ],
   "source": [
    "print(f'array1의 차원은 {array1.ndim}, array2의 차원은 {array2.ndim}, array3의 차원은 {array3.ndim}')"
   ]
  },
  {
   "cell_type": "code",
   "execution_count": 18,
   "metadata": {},
   "outputs": [
    {
     "name": "stdout",
     "output_type": "stream",
     "text": [
      "<class 'list'>\n",
      "<class 'numpy.ndarray'>\n",
      "[1 2 3] int32\n"
     ]
    }
   ],
   "source": [
    "list1=[1,2,3]\n",
    "print(type(list1))\n",
    "array1=np.array(list1)\n",
    "print(type(array1))\n",
    "print(array1,array1.dtype)"
   ]
  },
  {
   "cell_type": "code",
   "execution_count": 19,
   "metadata": {},
   "outputs": [
    {
     "name": "stdout",
     "output_type": "stream",
     "text": [
      "<class 'list'>\n",
      "<class 'numpy.ndarray'>\n",
      "[1. 2. 3.] float64\n"
     ]
    }
   ],
   "source": [
    "list1=[1.0,2,3]\n",
    "print(type(list1))\n",
    "array1=np.array(list1)\n",
    "print(type(array1))\n",
    "print(array1,array1.dtype)"
   ]
  },
  {
   "cell_type": "code",
   "execution_count": 23,
   "metadata": {},
   "outputs": [
    {
     "name": "stdout",
     "output_type": "stream",
     "text": [
      "<class 'list'>\n",
      "<class 'numpy.ndarray'>\n",
      "['1' '2' 'test'] <U11\n"
     ]
    }
   ],
   "source": [
    "list1=[1,2, 'test']\n",
    "print(type(list1))\n",
    "array1=np.array(list1)\n",
    "print(type(array1))\n",
    "print(array1,array1.dtype)"
   ]
  },
  {
   "cell_type": "code",
   "execution_count": 29,
   "metadata": {},
   "outputs": [
    {
     "name": "stdout",
     "output_type": "stream",
     "text": [
      "[1. 2. 3.] float64\n",
      "[1 2 3] int32\n",
      "[1 2 3] int32\n",
      "['1' '2' '3'] <U1\n"
     ]
    }
   ],
   "source": [
    "array_int=np.array([1,2,3])\n",
    "array_float=array_int.astype('float64')\n",
    "print(array_float,array_float.dtype)\n",
    "\n",
    "array_int1=array_float.astype('int32')\n",
    "print(array_int1,array_int1.dtype)\n",
    "\n",
    "array_float1=np.array([1.1,2.2,3.3])\n",
    "array_int2=array_float1.astype('int32')\n",
    "print(array_int2,array_int2.dtype)\n",
    "\n",
    "array_str=array_int.astype('U1')\n",
    "print(array_str,array_str.dtype)"
   ]
  },
  {
   "cell_type": "code",
   "execution_count": 31,
   "metadata": {},
   "outputs": [
    {
     "name": "stdout",
     "output_type": "stream",
     "text": [
      "[10 12 14 16 18]\n",
      "int32 (5,)\n"
     ]
    }
   ],
   "source": [
    "sequence_array=np.arange(10,20,2)\n",
    "print(sequence_array)\n",
    "print(sequence_array.dtype, sequence_array.shape)"
   ]
  },
  {
   "cell_type": "code",
   "execution_count": 34,
   "metadata": {},
   "outputs": [
    {
     "name": "stdout",
     "output_type": "stream",
     "text": [
      "[[0. 0.]\n",
      " [0. 0.]\n",
      " [0. 0.]]\n",
      "float64 (3, 2)\n",
      "[[1. 1.]\n",
      " [1. 1.]\n",
      " [1. 1.]]\n",
      "float64 (3, 2)\n"
     ]
    }
   ],
   "source": [
    "zero_array=np.zeros((3,2))\n",
    "print(zero_array)\n",
    "print(zero_array.dtype, zero_array.shape)\n",
    "\n",
    "ones_array=np.ones((3,2))\n",
    "print(ones_array)\n",
    "print(ones_array.dtype, ones_array.shape)"
   ]
  },
  {
   "cell_type": "code",
   "execution_count": 36,
   "metadata": {},
   "outputs": [
    {
     "name": "stdout",
     "output_type": "stream",
     "text": [
      "array1:\n",
      " [0 1 2 3 4 5 6 7 8 9]\n",
      "array2:\n",
      " [[0 1 2 3 4]\n",
      " [5 6 7 8 9]]\n",
      "array3:\n",
      " [[0 1]\n",
      " [2 3]\n",
      " [4 5]\n",
      " [6 7]\n",
      " [8 9]]\n"
     ]
    }
   ],
   "source": [
    "array1=np.arange(10)\n",
    "print('array1:\\n',array1)\n",
    "\n",
    "array2= array1.reshape(2,5)\n",
    "print('array2:\\n',array2)\n",
    "\n",
    "array3=array1.reshape(5,-1)\n",
    "print('array3:\\n',array3)"
   ]
  },
  {
   "cell_type": "code",
   "execution_count": 38,
   "metadata": {},
   "outputs": [
    {
     "name": "stdout",
     "output_type": "stream",
     "text": [
      "array3d:\n",
      " [[[0, 1], [2, 3]], [[4, 5], [6, 7]]]\n",
      "[[[0 1]\n",
      "  [2 3]]\n",
      "\n",
      " [[4 5]\n",
      "  [6 7]]] (2, 2, 2)\n",
      "array5:\n",
      " [[0], [1], [2], [3], [4], [5], [6], [7]]\n",
      "array5 shape: (8, 1)\n",
      "array6:\n",
      " [[0], [1], [2], [3], [4], [5], [6], [7]]\n",
      "array6 shape: (8, 1)\n"
     ]
    }
   ],
   "source": [
    "array1=np.arange(8)\n",
    "array3d=array1.reshape((2,2,2))\n",
    "print('array3d:\\n',array3d.tolist())\n",
    "print(array3d,array3d.shape)\n",
    "\n",
    "array5=array3d.reshape(-1,1)\n",
    "print('array5:\\n',array5.tolist())\n",
    "print('array5 shape:',array5.shape)\n",
    "\n",
    "array6=array1.reshape(-1,1)\n",
    "print('array6:\\n',array6.tolist())\n",
    "print('array6 shape:',array6.shape)"
   ]
  },
  {
   "cell_type": "code",
   "execution_count": 39,
   "metadata": {},
   "outputs": [
    {
     "name": "stdout",
     "output_type": "stream",
     "text": [
      "array1: [1 2 3 4 5 6 7 8 9]\n",
      "value: 3\n",
      "<class 'numpy.int32'>\n"
     ]
    }
   ],
   "source": [
    "array1=np.arange(1,10)\n",
    "print('array1:',array1)\n",
    "\n",
    "value=array1[2]\n",
    "print('value:',value)\n",
    "print(type(value))"
   ]
  },
  {
   "cell_type": "code",
   "execution_count": 40,
   "metadata": {},
   "outputs": [
    {
     "name": "stdout",
     "output_type": "stream",
     "text": [
      "맨뒤의 값 : 9, 맨 뒤에서 두 번째 값 : 8\n"
     ]
    }
   ],
   "source": [
    "print(f'맨뒤의 값 : {array1[-1]}, 맨 뒤에서 두 번째 값 : {array1[-2]}')"
   ]
  },
  {
   "cell_type": "code",
   "execution_count": 41,
   "metadata": {},
   "outputs": [
    {
     "name": "stdout",
     "output_type": "stream",
     "text": [
      "[[1 2 3]\n",
      " [4 5 6]\n",
      " [7 8 9]]\n",
      "(row=0, col=0) index 가리키는 값: 1\n",
      "(row=0, col=1) index 가리키는 값: 2\n",
      "(row=1, col=0) index 가리키는 값: 4\n",
      "(row=2, col=2) index 가리키는 값: 9\n",
      "(row=2, col=2) index 가리키는 값: 9\n"
     ]
    }
   ],
   "source": [
    "array2d=array1.reshape(3,3)\n",
    "print(array2d)\n",
    "\n",
    "print(f'(row=0, col=0) index 가리키는 값: {array2d[0,0]}')\n",
    "print(f'(row=0, col=1) index 가리키는 값: {array2d[0,1]}')\n",
    "print(f'(row=1, col=0) index 가리키는 값: {array2d[1,0]}')\n",
    "print(f'(row=2, col=2) index 가리키는 값: {array2d[2,2]}')\n",
    "print(f'(row=2, col=2) index 가리키는 값: {array2d[2][2]}')"
   ]
  },
  {
   "cell_type": "code",
   "execution_count": 47,
   "metadata": {},
   "outputs": [
    {
     "name": "stdout",
     "output_type": "stream",
     "text": [
      "[1 2 3]\n",
      "[4 5 6 7 8 9]\n",
      "[1 2 3 4 5 6 7 8 9]\n",
      "[1 2 3 4 5 6 7 8 9]\n"
     ]
    }
   ],
   "source": [
    "array3=array1[:3]\n",
    "array5=array1[3:]\n",
    "array6=array1[:]\n",
    "array7=array1[:9]\n",
    "print(array3)\n",
    "print(array5)\n",
    "print(array6)\n",
    "print(array7)"
   ]
  },
  {
   "cell_type": "code",
   "execution_count": 48,
   "metadata": {},
   "outputs": [
    {
     "name": "stdout",
     "output_type": "stream",
     "text": [
      "array2d:\n",
      " [[1 2 3]\n",
      " [4 5 6]\n",
      " [7 8 9]]\n",
      "array2d[0:2, 0:2]\n",
      " [[1 2]\n",
      " [4 5]]\n",
      "array2d[1:3, 0:3]\n",
      " [[4 5 6]\n",
      " [7 8 9]]\n",
      "array2d[:, :]\n",
      " [[1 2 3]\n",
      " [4 5 6]\n",
      " [7 8 9]]\n",
      "array2d[:2, 1:]\n",
      " [[2 3]\n",
      " [5 6]]\n",
      "array2d[:2, 0]\n",
      " [1 4]\n",
      "array2d[0:2, 0:2]\n",
      " [[1 2 3]\n",
      " [4 5 6]]\n"
     ]
    }
   ],
   "source": [
    "array1d=np.arange(1,10)\n",
    "array2d=array1d.reshape(3,3)\n",
    "print(f'array2d:\\n {array2d}')\n",
    "\n",
    "print(f'array2d[0:2, 0:2]\\n {array2d[0:2,0:2]}')\n",
    "print(f'array2d[1:3, 0:3]\\n {array2d[1:3,0:3]}')\n",
    "print(f'array2d[:, :]\\n {array2d[:,:]}')\n",
    "print(f'array2d[:2, 1:]\\n {array2d[:2,1:]}')\n",
    "print(f'array2d[:2, 0]\\n {array2d[:2,0]}')\n",
    "print(f'array2d[0:2, 0:2]\\n {array2d[0:2][0:2]}')"
   ]
  },
  {
   "cell_type": "code",
   "execution_count": 50,
   "metadata": {},
   "outputs": [
    {
     "name": "stdout",
     "output_type": "stream",
     "text": [
      "[1 2 3]\n",
      "[4 5 6]\n",
      "(3,) (3,)\n",
      "1 1\n"
     ]
    }
   ],
   "source": [
    "print(array2d[0])\n",
    "print(array2d[1])\n",
    "print(array2d[0].shape, array2d[1].shape)\n",
    "print(array2d[0].ndim,array2d[1].ndim)"
   ]
  },
  {
   "cell_type": "code",
   "execution_count": 61,
   "metadata": {},
   "outputs": [
    {
     "name": "stdout",
     "output_type": "stream",
     "text": [
      "array2d[[0,1],2] : [3, 6]\n",
      "array2d[[0,1],0:2] : [[1, 2], [4, 5]]\n",
      "array2d[[0,1]] : [[1, 2, 3], [7, 8, 9]]\n"
     ]
    }
   ],
   "source": [
    "array1d=np.arange(1,10)\n",
    "array2d=array1d.reshape(3,3)\n",
    "\n",
    "array3= array2d[[0,1],2]\n",
    "print(f'array2d[[0,1],2] : {array3.tolist()}')\n",
    "\n",
    "array4 = array2d[[0,1],0:2]\n",
    "print(f'array2d[[0,1],0:2] : {array4.tolist()}')\n",
    "\n",
    "array5 = array2d[[0,2]]\n",
    "print(f'array2d[[0,1]] : {array5.tolist()}')\n"
   ]
  },
  {
   "cell_type": "code",
   "execution_count": 63,
   "metadata": {},
   "outputs": [
    {
     "name": "stdout",
     "output_type": "stream",
     "text": [
      "[6 7 8 9]\n"
     ]
    }
   ],
   "source": [
    "array1d=np.arange(1,10)\n",
    "\n",
    "array3 = array1d[array1d > 5]\n",
    "\n",
    "print(array3)"
   ]
  },
  {
   "cell_type": "code",
   "execution_count": 64,
   "metadata": {},
   "outputs": [
    {
     "data": {
      "text/plain": [
       "array([False, False, False, False, False,  True,  True,  True,  True])"
      ]
     },
     "execution_count": 64,
     "metadata": {},
     "output_type": "execute_result"
    }
   ],
   "source": [
    "array1d > 5"
   ]
  },
  {
   "cell_type": "code",
   "execution_count": 65,
   "metadata": {},
   "outputs": [
    {
     "data": {
      "text/plain": [
       "array([False, False,  True, False, False,  True, False, False,  True])"
      ]
     },
     "execution_count": 65,
     "metadata": {},
     "output_type": "execute_result"
    }
   ],
   "source": [
    "array1d%3==0"
   ]
  },
  {
   "cell_type": "code",
   "execution_count": 66,
   "metadata": {},
   "outputs": [],
   "source": [
    "array1d=np.arange(1,1000)"
   ]
  },
  {
   "cell_type": "code",
   "execution_count": 67,
   "metadata": {},
   "outputs": [
    {
     "name": "stdout",
     "output_type": "stream",
     "text": [
      "[  3   6   9  12  15  18  21  24  27  30  33  36  39  42  45  48  51  54\n",
      "  57  60  63  66  69  72  75  78  81  84  87  90  93  96  99 102 105 108\n",
      " 111 114 117 120 123 126 129 132 135 138 141 144 147 150 153 156 159 162\n",
      " 165 168 171 174 177 180 183 186 189 192 195 198 201 204 207 210 213 216\n",
      " 219 222 225 228 231 234 237 240 243 246 249 252 255 258 261 264 267 270\n",
      " 273 276 279 282 285 288 291 294 297 300 303 306 309 312 315 318 321 324\n",
      " 327 330 333 336 339 342 345 348 351 354 357 360 363 366 369 372 375 378\n",
      " 381 384 387 390 393 396 399 402 405 408 411 414 417 420 423 426 429 432\n",
      " 435 438 441 444 447 450 453 456 459 462 465 468 471 474 477 480 483 486\n",
      " 489 492 495 498 501 504 507 510 513 516 519 522 525 528 531 534 537 540\n",
      " 543 546 549 552 555 558 561 564 567 570 573 576 579 582 585 588 591 594\n",
      " 597 600 603 606 609 612 615 618 621 624 627 630 633 636 639 642 645 648\n",
      " 651 654 657 660 663 666 669 672 675 678 681 684 687 690 693 696 699 702\n",
      " 705 708 711 714 717 720 723 726 729 732 735 738 741 744 747 750 753 756\n",
      " 759 762 765 768 771 774 777 780 783 786 789 792 795 798 801 804 807 810\n",
      " 813 816 819 822 825 828 831 834 837 840 843 846 849 852 855 858 861 864\n",
      " 867 870 873 876 879 882 885 888 891 894 897 900 903 906 909 912 915 918\n",
      " 921 924 927 930 933 936 939 942 945 948 951 954 957 960 963 966 969 972\n",
      " 975 978 981 984 987 990 993 996 999]\n"
     ]
    }
   ],
   "source": [
    "array4=array1d[array1d%3==0]\n",
    "print(array4)"
   ]
  },
  {
   "cell_type": "code",
   "execution_count": 73,
   "metadata": {},
   "outputs": [
    {
     "name": "stdout",
     "output_type": "stream",
     "text": [
      "원본 행렬 : [3 1 9 5]\n",
      "정렬된 행렬 : [1 3 5 9]\n",
      "None\n",
      "[1 3 5 9]\n"
     ]
    }
   ],
   "source": [
    "org_array = np.array([3,1,9,5])\n",
    "print(f'원본 행렬 : {org_array}')\n",
    "\n",
    "sort_array = np.sort(org_array)\n",
    "print(f'정렬된 행렬 : {sort_array}')\n",
    "\n",
    "sort_array2=org_array.sort()\n",
    "print(sort_array2)\n",
    "print(org_array)"
   ]
  },
  {
   "cell_type": "code",
   "execution_count": 78,
   "metadata": {},
   "outputs": [
    {
     "data": {
      "text/plain": [
       "array([9, 5, 3, 1])"
      ]
     },
     "execution_count": 78,
     "metadata": {},
     "output_type": "execute_result"
    }
   ],
   "source": [
    "np.sort(org_array)[::-1]"
   ]
  },
  {
   "cell_type": "code",
   "execution_count": 81,
   "metadata": {},
   "outputs": [
    {
     "name": "stdout",
     "output_type": "stream",
     "text": [
      "[[ 8 12]\n",
      " [ 7  1]]\n",
      "[[ 7  1]\n",
      " [ 8 12]]\n",
      "[[ 8 12]\n",
      " [ 1  7]]\n"
     ]
    }
   ],
   "source": [
    "array2d=np.array([[8,12],[7,1]])\n",
    "\n",
    "print(array2d)\n",
    "\n",
    "sort_array2d_axis0 = np.sort(array2d, axis=0)\n",
    "print(sort_array2d_axis0)\n",
    "\n",
    "sort_array2d_axis1 = np.sort(array2d, axis=1)\n",
    "print(sort_array2d_axis1)"
   ]
  },
  {
   "cell_type": "code",
   "execution_count": 83,
   "metadata": {},
   "outputs": [
    {
     "name": "stdout",
     "output_type": "stream",
     "text": [
      "<class 'numpy.ndarray'>\n",
      "[0 1 2 3]\n"
     ]
    }
   ],
   "source": [
    "org_array = np.array([3,1,9,5])\n",
    "org_array.sort()\n",
    "sort_indices = np.argsort(org_array)\n",
    "print(type(sort_indices))\n",
    "print(sort_indices)"
   ]
  },
  {
   "cell_type": "code",
   "execution_count": 84,
   "metadata": {},
   "outputs": [],
   "source": [
    "A=np.array([[1,2,3],[4,5,6]])\n",
    "B=np.array([[7,8],[9,10],[11,12]])"
   ]
  },
  {
   "cell_type": "code",
   "execution_count": 85,
   "metadata": {},
   "outputs": [
    {
     "name": "stdout",
     "output_type": "stream",
     "text": [
      "[[ 58  64]\n",
      " [139 154]]\n"
     ]
    }
   ],
   "source": [
    "dot_product=np.dot(A,B)\n",
    "print(dot_product)"
   ]
  },
  {
   "cell_type": "code",
   "execution_count": 86,
   "metadata": {},
   "outputs": [
    {
     "name": "stdout",
     "output_type": "stream",
     "text": [
      "(2, 3)\n",
      "(3, 2)\n"
     ]
    }
   ],
   "source": [
    "print(A.shape)\n",
    "print(B.shape)"
   ]
  },
  {
   "cell_type": "code",
   "execution_count": 88,
   "metadata": {},
   "outputs": [
    {
     "name": "stdout",
     "output_type": "stream",
     "text": [
      "[[1 2 3]\n",
      " [4 5 6]]\n",
      "[[1 4]\n",
      " [2 5]\n",
      " [3 6]]\n"
     ]
    }
   ],
   "source": [
    "print(A)\n",
    "print(np.transpose(A))"
   ]
  },
  {
   "cell_type": "code",
   "execution_count": null,
   "metadata": {},
   "outputs": [],
   "source": []
  }
 ],
 "metadata": {
  "kernelspec": {
   "display_name": "Python 3",
   "language": "python",
   "name": "python3"
  },
  "language_info": {
   "codemirror_mode": {
    "name": "ipython",
    "version": 3
   },
   "file_extension": ".py",
   "mimetype": "text/x-python",
   "name": "python",
   "nbconvert_exporter": "python",
   "pygments_lexer": "ipython3",
   "version": "3.8.5"
  }
 },
 "nbformat": 4,
 "nbformat_minor": 4
}
