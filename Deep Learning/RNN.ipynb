{
  "nbformat": 4,
  "nbformat_minor": 0,
  "metadata": {
    "colab": {
      "name": "RNN.ipynb",
      "provenance": [],
      "collapsed_sections": []
    },
    "kernelspec": {
      "name": "python3",
      "display_name": "Python 3"
    },
    "language_info": {
      "name": "python"
    },
    "accelerator": "GPU"
  },
  "cells": [
    {
      "cell_type": "code",
      "metadata": {
        "id": "PRdkH3AhFlnS"
      },
      "source": [
        "import torch\n",
        "import torch.nn as nn\n",
        "import torch.optim as optim\n",
        "import numpy as np"
      ],
      "execution_count": 4,
      "outputs": []
    },
    {
      "cell_type": "code",
      "metadata": {
        "id": "vq2Wy6eCHWz4"
      },
      "source": [
        "n_hidden = 35\n",
        "lr = 0.01\n",
        "epochs = 1000\n",
        "\n",
        "string = 'hello pytorch. how long can a rnn cell remember?'\n",
        "chars = 'abcdefghijklmnopqrstuvwxyz ?!.,:;01'\n",
        "char_list = [i for i in chars]\n",
        "n_letters = len(char_list)"
      ],
      "execution_count": 5,
      "outputs": []
    },
    {
      "cell_type": "code",
      "metadata": {
        "id": "IYCQ9XoOHzKb"
      },
      "source": [
        "def string_to_onehot(string):\n",
        "    start = np.zeros(shape=len(char_list), dtype=int)\n",
        "    end = np.zeros(shape=len(char_list), dtype=int)\n",
        "    start[-2] = 1\n",
        "    end[-1] = 1\n",
        "    for i in string:\n",
        "        idx = char_list.index(i)\n",
        "        zero = np.zeros(shape=n_letters, dtype=int)\n",
        "        zero[idx] = 1\n",
        "        start = np.vstack([start,zero])\n",
        "    output = np.vstack([start,end])\n",
        "    return output"
      ],
      "execution_count": 6,
      "outputs": []
    },
    {
      "cell_type": "code",
      "metadata": {
        "id": "tvNLO29NIPsH"
      },
      "source": [
        "def onehot_to_word(onehot_1):\n",
        "    onehot = torch.Tensor.numpy(onehot_1)\n",
        "    return char_list[onehot.argmax()]\n",
        "    "
      ],
      "execution_count": 7,
      "outputs": []
    },
    {
      "cell_type": "code",
      "metadata": {
        "id": "234ImfaVIcx_"
      },
      "source": [
        "class RNN(nn.Module):\n",
        "    def __init__(self, input_size, hidden_size, output_size):\n",
        "        super(RNN, self).__init__()\n",
        "\n",
        "        self.input_size = input_size\n",
        "        self.hidden_size = hidden_size\n",
        "        self.output_size = output_size\n",
        "\n",
        "        self.i2h = nn.Linear(input_size, hidden_size)\n",
        "        self.h2h = nn.Linear(hidden_size, hidden_size)\n",
        "        self.i2o = nn.Linear(hidden_size, output_size)\n",
        "        self.act_fn = nn.Tanh()\n",
        "\n",
        "    \n",
        "    def forward(self, input, hidden):\n",
        "        hidden = self.act_fn(self.i2h(input)+ self.h2h(hidden))\n",
        "        output = self.i2o(hidden)\n",
        "        return output, hidden\n",
        "\n",
        "    def init_hidden(self):\n",
        "        return torch.zeros(1, self.hidden_size)\n",
        "\n",
        "\n",
        "rnn = RNN(n_letters, n_hidden, n_letters)"
      ],
      "execution_count": 8,
      "outputs": []
    },
    {
      "cell_type": "code",
      "metadata": {
        "id": "IbV9gikYJ2gr"
      },
      "source": [
        "loss_func = nn.MSELoss()\n",
        "optimizer = torch.optim.Adam(rnn.parameters(), lr=lr)"
      ],
      "execution_count": 9,
      "outputs": []
    },
    {
      "cell_type": "code",
      "metadata": {
        "colab": {
          "base_uri": "https://localhost:8080/"
        },
        "id": "1auKGPYBJ-E_",
        "outputId": "efad3f9c-eb6d-4449-a985-5ec5afec9bed"
      },
      "source": [
        "one_hot = torch.from_numpy(string_to_onehot(string)).type_as(torch.FloatTensor())\n",
        "\n",
        "for i in range(epochs):\n",
        "    rnn.zero_grad()\n",
        "    total_loss = 0\n",
        "    hidden = rnn.init_hidden()\n",
        "\n",
        "    for j in range(one_hot.size()[0]-1):\n",
        "        input_ = one_hot[j:j+1,:]\n",
        "        target = one_hot[j+1]\n",
        "\n",
        "        output, hidden = rnn.forward(input_, hidden)\n",
        "        loss = loss_func(output.view(-1), target.view(-1))\n",
        "        total_loss += loss\n",
        "        input_ = output\n",
        "\n",
        "    total_loss.backward()\n",
        "    optimizer.step()\n",
        "\n",
        "    if i%10 ==0:\n",
        "        print(total_loss)\n",
        "\n",
        "start = torch.zeros(1, len(char_list))\n",
        "start[:,-2] = 1\n",
        "\n",
        "with torch.no_grad():\n",
        "    hidden = rnn.init_hidden()\n",
        "    input_ = start\n",
        "    output_string = ''\n",
        "    for i in range(len(string)):\n",
        "        output, hidden = rnn.forward(input_, hidden)\n",
        "        output_string += onehot_to_word(output.data)\n",
        "        input_ = output\n",
        "\n",
        "print(output_string)\n"
      ],
      "execution_count": 11,
      "outputs": [
        {
          "output_type": "stream",
          "text": [
            "tensor(0.0051, grad_fn=<AddBackward0>)\n",
            "tensor(0.0034, grad_fn=<AddBackward0>)\n",
            "tensor(0.0030, grad_fn=<AddBackward0>)\n",
            "tensor(0.0028, grad_fn=<AddBackward0>)\n",
            "tensor(0.0027, grad_fn=<AddBackward0>)\n",
            "tensor(0.0026, grad_fn=<AddBackward0>)\n",
            "tensor(0.0030, grad_fn=<AddBackward0>)\n",
            "tensor(0.0065, grad_fn=<AddBackward0>)\n",
            "tensor(0.0049, grad_fn=<AddBackward0>)\n",
            "tensor(0.0034, grad_fn=<AddBackward0>)\n",
            "tensor(0.0028, grad_fn=<AddBackward0>)\n",
            "tensor(0.0025, grad_fn=<AddBackward0>)\n",
            "tensor(0.0024, grad_fn=<AddBackward0>)\n",
            "tensor(0.0023, grad_fn=<AddBackward0>)\n",
            "tensor(0.0024, grad_fn=<AddBackward0>)\n",
            "tensor(0.0216, grad_fn=<AddBackward0>)\n",
            "tensor(0.0053, grad_fn=<AddBackward0>)\n",
            "tensor(0.0030, grad_fn=<AddBackward0>)\n",
            "tensor(0.0024, grad_fn=<AddBackward0>)\n",
            "tensor(0.0022, grad_fn=<AddBackward0>)\n",
            "tensor(0.0024, grad_fn=<AddBackward0>)\n",
            "tensor(0.0071, grad_fn=<AddBackward0>)\n",
            "tensor(0.0041, grad_fn=<AddBackward0>)\n",
            "tensor(0.0030, grad_fn=<AddBackward0>)\n",
            "tensor(0.0024, grad_fn=<AddBackward0>)\n",
            "tensor(0.0022, grad_fn=<AddBackward0>)\n",
            "tensor(0.0021, grad_fn=<AddBackward0>)\n",
            "tensor(0.0020, grad_fn=<AddBackward0>)\n",
            "tensor(0.0019, grad_fn=<AddBackward0>)\n",
            "tensor(0.0018, grad_fn=<AddBackward0>)\n",
            "tensor(0.0020, grad_fn=<AddBackward0>)\n",
            "tensor(0.0118, grad_fn=<AddBackward0>)\n",
            "tensor(0.0043, grad_fn=<AddBackward0>)\n",
            "tensor(0.0024, grad_fn=<AddBackward0>)\n",
            "tensor(0.0021, grad_fn=<AddBackward0>)\n",
            "tensor(0.0018, grad_fn=<AddBackward0>)\n",
            "tensor(0.0018, grad_fn=<AddBackward0>)\n",
            "tensor(0.0134, grad_fn=<AddBackward0>)\n",
            "tensor(0.0026, grad_fn=<AddBackward0>)\n",
            "tensor(0.0020, grad_fn=<AddBackward0>)\n",
            "tensor(0.0018, grad_fn=<AddBackward0>)\n",
            "tensor(0.0017, grad_fn=<AddBackward0>)\n",
            "tensor(0.0016, grad_fn=<AddBackward0>)\n",
            "tensor(0.0116, grad_fn=<AddBackward0>)\n",
            "tensor(0.0037, grad_fn=<AddBackward0>)\n",
            "tensor(0.0023, grad_fn=<AddBackward0>)\n",
            "tensor(0.0017, grad_fn=<AddBackward0>)\n",
            "tensor(0.0015, grad_fn=<AddBackward0>)\n",
            "tensor(0.0015, grad_fn=<AddBackward0>)\n",
            "tensor(0.0014, grad_fn=<AddBackward0>)\n",
            "tensor(0.0014, grad_fn=<AddBackward0>)\n",
            "tensor(0.0013, grad_fn=<AddBackward0>)\n",
            "tensor(0.0013, grad_fn=<AddBackward0>)\n",
            "tensor(0.0111, grad_fn=<AddBackward0>)\n",
            "tensor(0.0068, grad_fn=<AddBackward0>)\n",
            "tensor(0.0028, grad_fn=<AddBackward0>)\n",
            "tensor(0.0020, grad_fn=<AddBackward0>)\n",
            "tensor(0.0016, grad_fn=<AddBackward0>)\n",
            "tensor(0.0014, grad_fn=<AddBackward0>)\n",
            "tensor(0.0013, grad_fn=<AddBackward0>)\n",
            "tensor(0.0013, grad_fn=<AddBackward0>)\n",
            "tensor(0.0012, grad_fn=<AddBackward0>)\n",
            "tensor(0.0013, grad_fn=<AddBackward0>)\n",
            "tensor(0.0082, grad_fn=<AddBackward0>)\n",
            "tensor(0.0040, grad_fn=<AddBackward0>)\n",
            "tensor(0.0021, grad_fn=<AddBackward0>)\n",
            "tensor(0.0017, grad_fn=<AddBackward0>)\n",
            "tensor(0.0014, grad_fn=<AddBackward0>)\n",
            "tensor(0.0014, grad_fn=<AddBackward0>)\n",
            "tensor(0.0012, grad_fn=<AddBackward0>)\n",
            "tensor(0.0012, grad_fn=<AddBackward0>)\n",
            "tensor(0.0011, grad_fn=<AddBackward0>)\n",
            "tensor(0.0011, grad_fn=<AddBackward0>)\n",
            "tensor(0.0014, grad_fn=<AddBackward0>)\n",
            "tensor(0.0032, grad_fn=<AddBackward0>)\n",
            "tensor(0.0023, grad_fn=<AddBackward0>)\n",
            "tensor(0.0016, grad_fn=<AddBackward0>)\n",
            "tensor(0.0012, grad_fn=<AddBackward0>)\n",
            "tensor(0.0011, grad_fn=<AddBackward0>)\n",
            "tensor(0.0011, grad_fn=<AddBackward0>)\n",
            "tensor(0.0010, grad_fn=<AddBackward0>)\n",
            "tensor(0.0010, grad_fn=<AddBackward0>)\n",
            "tensor(0.0010, grad_fn=<AddBackward0>)\n",
            "tensor(0.0097, grad_fn=<AddBackward0>)\n",
            "tensor(0.0045, grad_fn=<AddBackward0>)\n",
            "tensor(0.0018, grad_fn=<AddBackward0>)\n",
            "tensor(0.0013, grad_fn=<AddBackward0>)\n",
            "tensor(0.0011, grad_fn=<AddBackward0>)\n",
            "tensor(0.0010, grad_fn=<AddBackward0>)\n",
            "tensor(0.0009, grad_fn=<AddBackward0>)\n",
            "tensor(0.0009, grad_fn=<AddBackward0>)\n",
            "tensor(0.0020, grad_fn=<AddBackward0>)\n",
            "tensor(0.0042, grad_fn=<AddBackward0>)\n",
            "tensor(0.0016, grad_fn=<AddBackward0>)\n",
            "tensor(0.0013, grad_fn=<AddBackward0>)\n",
            "tensor(0.0010, grad_fn=<AddBackward0>)\n",
            "tensor(0.0009, grad_fn=<AddBackward0>)\n",
            "tensor(0.0009, grad_fn=<AddBackward0>)\n",
            "tensor(0.0008, grad_fn=<AddBackward0>)\n",
            "tensor(0.0008, grad_fn=<AddBackward0>)\n",
            "hello pytcrco. ho mem o .gheca gg rwnneg rwlnrr \n"
          ],
          "name": "stdout"
        }
      ]
    },
    {
      "cell_type": "code",
      "metadata": {
        "id": "1iFSro83LR73"
      },
      "source": [
        ""
      ],
      "execution_count": null,
      "outputs": []
    }
  ]
}