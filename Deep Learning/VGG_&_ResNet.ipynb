{
  "nbformat": 4,
  "nbformat_minor": 0,
  "metadata": {
    "colab": {
      "name": "VGG & ResNet.ipynb",
      "provenance": [],
      "collapsed_sections": []
    },
    "kernelspec": {
      "name": "python3",
      "display_name": "Python 3"
    },
    "language_info": {
      "name": "python"
    },
    "accelerator": "GPU"
  },
  "cells": [
    {
      "cell_type": "code",
      "metadata": {
        "id": "_DTT_rBIWA5K"
      },
      "source": [
        "import torch\n",
        "import torch.nn as nn\n",
        "import torch.optim as optim\n",
        "import torch.nn.init as init\n",
        "import torchvision.datasets as dset\n",
        "import torchvision.transforms as transforms\n",
        "from torch.utils.data import DataLoader"
      ],
      "execution_count": 1,
      "outputs": []
    },
    {
      "cell_type": "code",
      "metadata": {
        "id": "99ot2FnjWg2c"
      },
      "source": [
        "def conv_2_block(in_dim, out_dim):\n",
        "    model = nn.Sequential(\n",
        "        nn.Conv2d(in_dim,out_dim, kernel_size=3, padding=1),\n",
        "        nn.ReLU(),\n",
        "        nn.Conv2d(out_dim, out_dim, kernel_size=3, padding=1),\n",
        "        nn.ReLU(),\n",
        "        nn.MaxPool2d(2,2)\n",
        "    )\n",
        "    return model\n",
        "\n",
        "def conv_3_block(in_dim, out_dim):\n",
        "    model = nn.Sequential(\n",
        "        nn.Conv2d(in_dim, out_dim, kernel_size=3, padding=1),\n",
        "        nn.ReLU(),\n",
        "        nn.Conv2d(out_dim, out_dim, kernel_size=3, padding=1),\n",
        "        nn.ReLU(),\n",
        "        nn.Conv2d(out_dim,out_dim, kernel_size=3, padding=1),\n",
        "        nn.ReLU(),\n",
        "        nn.MaxPool2d(2,2)\n",
        "    )\n",
        "    return model\n"
      ],
      "execution_count": 2,
      "outputs": []
    },
    {
      "cell_type": "code",
      "metadata": {
        "id": "1fs90EFMXI-Y"
      },
      "source": [
        "class VGG(nn.Module):\n",
        "    def __init__(self, base_dim, num_classes=2):\n",
        "        super(VGG, self).__init__()\n",
        "        self.feature = nn.Sequential(\n",
        "            conv_2_block(3,base_dim),\n",
        "            conv_2_block(base_dim, 2*base_dim),\n",
        "            conv_3_block(2*base_dim, 4*base_dim),\n",
        "            conv_3_block(4*base_dim, 8*base_dim),\n",
        "            conv_3_block(8*base_dim, 8*base_dim),\n",
        "        )\n",
        "        self.fc_layer = nn.Sequential(\n",
        "            nn.Linear(8*base_dim*7*7, 100),\n",
        "            nn.ReLU(True),\n",
        "            nn.Linear(100,20),\n",
        "            nn.ReLU(True),\n",
        "            nn.Linear(20,num_classes),\n",
        "        )\n",
        "    \n",
        "    def forward(self,x):\n",
        "        x = self.feature(x)\n",
        "        x = x.view(x.size(0), -1)\n",
        "        x = self.fc_layer(x)\n",
        "        return x"
      ],
      "execution_count": 3,
      "outputs": []
    },
    {
      "cell_type": "code",
      "metadata": {
        "id": "LYQ4Fc95YJZJ"
      },
      "source": [
        "def conv_block_1(in_dim, out_dim, act_fn, strid=1):\n",
        "    model = nn.Sequential(\n",
        "        nn.Conv2d(in_dim, out_dim, kernel_size=1, stride=stride),\n",
        "        act_fn,\n",
        "    )\n",
        "    return model\n",
        "\n",
        "def conv_block_3(in_dim, out_dim, act_fn):\n",
        "    model = nn.Sequential(\n",
        "        nn.Conv2d(in_dim, out_dim, kernel_size=3, stride=1, padding=1),\n",
        "        act_fn,\n",
        "    )\n",
        "    return model\n"
      ],
      "execution_count": 4,
      "outputs": []
    },
    {
      "cell_type": "code",
      "metadata": {
        "id": "xSkMg6NWZbCB"
      },
      "source": [
        "class BottleNeck(nn.Module):\n",
        "    def __init__(self,in_dim, mid_dim, out_dim, act_fn, down=False):\n",
        "        super(BottleNeck,self).__init__()\n",
        "        self.act_fn = act_fn\n",
        "        self.down = down\n",
        "\n",
        "        if self.down:\n",
        "            self.layer = nn.Sequential(\n",
        "                conv_block_1(in_dim,mid_dim, act_fn,2),\n",
        "                conv_block_3(mid_dim,mid_dim,act_fn),\n",
        "                conv_block_1(mid_dim,out_dim, act_fn),\n",
        "            )\n",
        "            self.downsample = nn.Conv2d(in_dim, out_dim, 1,2)\n",
        "\n",
        "        else:\n",
        "            self.layer = nn.Sequential(\n",
        "                conv_block_1(in_dim, mid_dim, act_fn),\n",
        "                conv_block_3(mid_dim, mid_dim, act_fn),\n",
        "                conv_block_1(mid_dim, out_dim, act_fn)\n",
        "            )\n",
        "            self.dim_equalizer = nn.Conv2d(in_dim, out_dim, kernel_size=1)\n",
        "\n",
        "    \n",
        "    def forward(self,x):\n",
        "        if self.down:\n",
        "            downsample = self.downsample(x)\n",
        "            out = self.layer(x)\n",
        "            out = out + downsample\n",
        "        else:\n",
        "            out = self.layer(x)\n",
        "            if x.size() is not out.size():\n",
        "                x = self.dim_equalizer(x)\n",
        "            out = out + x\n",
        "\n",
        "        return out"
      ],
      "execution_count": 5,
      "outputs": []
    },
    {
      "cell_type": "code",
      "metadata": {
        "id": "N9H_KHwvaizD"
      },
      "source": [
        "class Resnet(nn.Module):\n",
        "\n",
        "    def __init_(self, base_dim, num_classes=2):\n",
        "        super(ResNet, self).__init__()\n",
        "        self.act_fn = nn.ReLU()\n",
        "        self.layer_1 = nn.Sequential(\n",
        "            nn.Conv2d(3, base_dim, 7, 2, 3),\n",
        "            nn.ReLU(),\n",
        "            nn.MaxPool2d(3,2,1),\n",
        "        )\n",
        "\n",
        "        self.layer_2 = nn.Sequential(\n",
        "            BottleNeck(base_dim,base_dim,base_dim*4, self.act_fn),\n",
        "            BottleNeck(base_dim*4,base_dim, base_dim*4, self.act_fn),\n",
        "            BottleNeck(base_dim*4,base_dim, base_dim*4, self.act_fn, down=True)\n",
        "\n",
        "        )\n",
        "        self.layer_3 = nn.Sequential(\n",
        "            BottleNeck(base_dim*4, base_dim*2, base_dim*8, self.act_fn),\n",
        "            BottleNeck(base_dim*8, base_dim*2, base_dim*8, self.act_fn),\n",
        "            BottleNeck(base_dim*8, base_dim*2, base_dim*8, self.act_fn),\n",
        "            BottleNeck(base_dim*8, base_dim*2, base_dim*8, self.act_fn, down=True)\n",
        "        )\n",
        "\n",
        "        self.layer_4 = nn.Sequential(\n",
        "            BottleNeck(base_dim*8,base_dim*4, base_dim*16, self.act_fn),\n",
        "            BottleNeck(base_dim*16, base_dim*4, base_dim*16, self.act_fn),\n",
        "            BottleNeck(base_dim*16, base_dim*4, base_dim*16, self.act_fn),\n",
        "            BottleNeck(base_dim*16, base_dim*4, base_dim*16, self.act_fn),\n",
        "            BottleNeck(base_dim*16, base_dim*4, base_dim*16, self.act_fn),\n",
        "            BottleNeck(base_dim*16, base_dim*4, base_dim*16, self.act_fn,down=True),\n",
        "        )\n",
        "\n",
        "        self.layer_5 = nn.Sequential(\n",
        "            BottleNeck(base_dim*16, base_dim*8, base_dim*32, self.act_fn),\n",
        "            BottleNeck(base_dim*32, base_dim*8, base_dim*32, self.act_fn),\n",
        "            BottleNeck(base_dim*32, base_Dim*8, base_dim*32, self.act_fn)\n",
        "        )\n",
        "        self.avgpool = nn.AvgPool2d(7,1)\n",
        "        self.fc_layer = nn.Linear(base_dim*32, num_classes)\n",
        "\n",
        "    \n",
        "    def forward(self,x):\n",
        "        out = self.layer_1(x)\n",
        "        out = self.layer_2(out)\n",
        "        out = self.layer_3(out)\n",
        "        out = self.layer_4(out)\n",
        "        out = self.layer_5(out)\n",
        "        out = self.avgpool(out)\n",
        "        out = out.view(batch_size,-1)\n",
        "        out = self.fc_layer(out)\n",
        "        return out"
      ],
      "execution_count": 6,
      "outputs": []
    },
    {
      "cell_type": "code",
      "metadata": {
        "id": "Zv9hqglgcclD"
      },
      "source": [
        ""
      ],
      "execution_count": null,
      "outputs": []
    }
  ]
}