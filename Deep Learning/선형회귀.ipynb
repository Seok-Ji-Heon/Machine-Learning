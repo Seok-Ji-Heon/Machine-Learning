{
  "nbformat": 4,
  "nbformat_minor": 0,
  "metadata": {
    "colab": {
      "name": "Untitled4.ipynb",
      "provenance": [],
      "collapsed_sections": []
    },
    "kernelspec": {
      "name": "python3",
      "display_name": "Python 3"
    },
    "language_info": {
      "name": "python"
    },
    "accelerator": "GPU"
  },
  "cells": [
    {
      "cell_type": "code",
      "metadata": {
        "id": "QgXa-kj_BBG0"
      },
      "source": [
        "import torch\n",
        "X = torch.Tensor(2,3)"
      ],
      "execution_count": null,
      "outputs": []
    },
    {
      "cell_type": "code",
      "metadata": {
        "id": "LDTYHFKTBE_A"
      },
      "source": [
        "X = torch.tensor([[1,2,3],[4,5,6]])"
      ],
      "execution_count": null,
      "outputs": []
    },
    {
      "cell_type": "code",
      "metadata": {
        "colab": {
          "base_uri": "https://localhost:8080/"
        },
        "id": "JuUaSl13BPm4",
        "outputId": "969b44e7-45bd-4003-b127-518d6255ef05"
      },
      "source": [
        "X"
      ],
      "execution_count": null,
      "outputs": [
        {
          "output_type": "execute_result",
          "data": {
            "text/plain": [
              "tensor([[1, 2, 3],\n",
              "        [4, 5, 6]])"
            ]
          },
          "metadata": {
            "tags": []
          },
          "execution_count": 4
        }
      ]
    },
    {
      "cell_type": "code",
      "metadata": {
        "id": "J_81TENYBUms"
      },
      "source": [
        "x_tensor = torch.tensor(data=[2.0,3.0], requires_grad=True)"
      ],
      "execution_count": null,
      "outputs": []
    },
    {
      "cell_type": "code",
      "metadata": {
        "id": "kmkxBuI3BetV"
      },
      "source": [
        "import torch\n",
        "\n",
        "x = torch.tensor(data=[2.0,3.0], requires_grad=True)\n",
        "y = x**2\n",
        "z = 2*y + 3\n",
        "\n",
        "target = torch.tensor([3.0,4.0])\n",
        "loss = torch.sum(torch.abs(z-target))\n",
        "loss.backward()"
      ],
      "execution_count": null,
      "outputs": []
    },
    {
      "cell_type": "code",
      "metadata": {
        "colab": {
          "base_uri": "https://localhost:8080/"
        },
        "id": "Mw8RxbgsBsA0",
        "outputId": "8d1e8c69-55fc-430b-cd00-28a752d577de"
      },
      "source": [
        "print(x.grad, y.grad, z.grad)"
      ],
      "execution_count": null,
      "outputs": [
        {
          "output_type": "stream",
          "text": [
            "tensor([ 8., 12.]) None None\n"
          ],
          "name": "stdout"
        },
        {
          "output_type": "stream",
          "text": [
            "/usr/local/lib/python3.7/dist-packages/ipykernel_launcher.py:1: UserWarning: The .grad attribute of a Tensor that is not a leaf Tensor is being accessed. Its .grad attribute won't be populated during autograd.backward(). If you indeed want the gradient for a non-leaf Tensor, use .retain_grad() on the non-leaf Tensor. If you access the non-leaf Tensor by mistake, make sure you access the leaf Tensor instead. See github.com/pytorch/pytorch/pull/30531 for more informations.\n",
            "  \"\"\"Entry point for launching an IPython kernel.\n"
          ],
          "name": "stderr"
        }
      ]
    },
    {
      "cell_type": "code",
      "metadata": {
        "id": "eUfWjtuuBuJJ"
      },
      "source": [
        "import torch\n",
        "import torch.nn as nn\n",
        "import torch.optim as optim\n",
        "import torch.nn.init as init"
      ],
      "execution_count": null,
      "outputs": []
    },
    {
      "cell_type": "code",
      "metadata": {
        "id": "jcLlp0m2B3KD"
      },
      "source": [
        "num_data = 1000\n",
        "num_epoch = 500\n",
        "\n",
        "x = init.uniform_(torch.Tensor(num_data,1),-10,10)\n",
        "noise = init.normal_(torch.FloatTensor(num_data,1),std=1)\n",
        "y = 2*x+3\n",
        "y_noise = y + noise"
      ],
      "execution_count": null,
      "outputs": []
    },
    {
      "cell_type": "code",
      "metadata": {
        "id": "BwEByliyCG4A"
      },
      "source": [
        "model = nn.Linear(1,1)\n",
        "loss_func = nn.L1Loss()\n",
        "optimizer = optim.SGD(model.parameters(),lr=0.01)\n",
        "label = y_noise"
      ],
      "execution_count": null,
      "outputs": []
    },
    {
      "cell_type": "code",
      "metadata": {
        "colab": {
          "base_uri": "https://localhost:8080/"
        },
        "id": "S37i-TACCZ3e",
        "outputId": "9c4b5efd-7691-4430-f31e-9fc696b46d0b"
      },
      "source": [
        "for i in range(num_epoch):\n",
        "    optimizer.zero_grad()\n",
        "    output = model(x)\n",
        "\n",
        "    loss = loss_func(output,label)\n",
        "    loss.backward()\n",
        "    optimizer.step()\n",
        "\n",
        "    if i%10 ==0:\n",
        "        print(loss.data)\n",
        "        param_list = list(model.parameters())\n",
        "        print(param_list[0].item(), param_list[1].item())"
      ],
      "execution_count": null,
      "outputs": [
        {
          "output_type": "stream",
          "text": [
            "tensor(9.7489)\n",
            "0.149781733751297 0.08490759134292603\n",
            "tensor(7.3937)\n",
            "0.6340231895446777 0.10150759667158127\n",
            "tensor(5.1949)\n",
            "1.0998122692108154 0.12546759843826294\n",
            "tensor(3.5138)\n",
            "1.4998524188995361 0.16702759265899658\n",
            "tensor(2.8509)\n",
            "1.7214981317520142 0.2373676300048828\n",
            "tensor(2.7015)\n",
            "1.7979215383529663 0.3268876373767853\n",
            "tensor(2.5924)\n",
            "1.8431273698806763 0.42036768794059753\n",
            "tensor(2.4912)\n",
            "1.8768281936645508 0.515007734298706\n",
            "tensor(2.3919)\n",
            "1.9062000513076782 0.610187828540802\n",
            "tensor(2.2942)\n",
            "1.9308934211730957 0.7058278322219849\n",
            "tensor(2.1975)\n",
            "1.9525713920593262 0.8016678690910339\n",
            "tensor(2.1021)\n",
            "1.9703341722488403 0.8976877927780151\n",
            "tensor(2.0084)\n",
            "1.9830948114395142 0.993527889251709\n",
            "tensor(1.9162)\n",
            "1.9931172132492065 1.0889077186584473\n",
            "tensor(1.8280)\n",
            "1.999795913696289 1.1824278831481934\n",
            "tensor(1.7443)\n",
            "2.003572940826416 1.2736679315567017\n",
            "tensor(1.6632)\n",
            "2.007129430770874 1.3635079860687256\n",
            "tensor(1.5850)\n",
            "2.00883412361145 1.4517879486083984\n",
            "tensor(1.5090)\n",
            "2.0095365047454834 1.5389480590820312\n",
            "tensor(1.4359)\n",
            "2.008565902709961 1.624167799949646\n",
            "tensor(1.3676)\n",
            "2.008129119873047 1.7065677642822266\n",
            "tensor(1.3043)\n",
            "2.0039193630218506 1.7857075929641724\n",
            "tensor(1.2457)\n",
            "2.0003414154052734 1.8618876934051514\n",
            "tensor(1.1906)\n",
            "1.9994193315505981 1.9359476566314697\n",
            "tensor(1.1401)\n",
            "1.9990990161895752 2.0067076683044434\n",
            "tensor(1.0944)\n",
            "2.000697612762451 2.074007511138916\n",
            "tensor(1.0548)\n",
            "1.9973455667495728 2.1364874839782715\n",
            "tensor(1.0190)\n",
            "1.9967856407165527 2.1961076259613037\n",
            "tensor(0.9866)\n",
            "1.9964298009872437 2.252727508544922\n",
            "tensor(0.9580)\n",
            "1.9954161643981934 2.3059072494506836\n",
            "tensor(0.9323)\n",
            "1.9943270683288574 2.3563473224639893\n",
            "tensor(0.9091)\n",
            "1.9921249151229858 2.4043874740600586\n",
            "tensor(0.8886)\n",
            "1.9935948848724365 2.4493672847747803\n",
            "tensor(0.8709)\n",
            "1.9961055517196655 2.4910874366760254\n",
            "tensor(0.8555)\n",
            "1.9962109327316284 2.530167579650879\n",
            "tensor(0.8414)\n",
            "1.9955477714538574 2.5673675537109375\n",
            "tensor(0.8297)\n",
            "1.9983344078063965 2.6013073921203613\n",
            "tensor(0.8198)\n",
            "1.9986895322799683 2.63246750831604\n",
            "tensor(0.8116)\n",
            "1.9998339414596558 2.6608879566192627\n",
            "tensor(0.8047)\n",
            "1.9988127946853638 2.6868679523468018\n",
            "tensor(0.7989)\n",
            "1.9980442523956299 2.7108280658721924\n",
            "tensor(0.7939)\n",
            "1.9968830347061157 2.7329678535461426\n",
            "tensor(0.7897)\n",
            "1.9976789951324463 2.753347635269165\n",
            "tensor(0.7859)\n",
            "1.9975922107696533 2.772547483444214\n",
            "tensor(0.7826)\n",
            "1.99691903591156 2.790647268295288\n",
            "tensor(0.7798)\n",
            "1.9976569414138794 2.807227373123169\n",
            "tensor(0.7774)\n",
            "1.9980779886245728 2.8224270343780518\n",
            "tensor(0.7757)\n",
            "1.9996848106384277 2.8355469703674316\n",
            "tensor(0.7742)\n",
            "1.999198079109192 2.8476669788360596\n",
            "tensor(0.7730)\n",
            "1.999114990234375 2.858527183532715\n"
          ],
          "name": "stdout"
        }
      ]
    },
    {
      "cell_type": "code",
      "metadata": {
        "id": "VxwUOtm_DHC1"
      },
      "source": [
        "num_data = 1000\n",
        "num_epoch = 10000\n",
        "\n",
        "noise = init.normal_(torch.FloatTensor(num_data,1),std=1)\n",
        "x = init.uniform_(torch.Tensor(num_data,1),-15,15)\n",
        "y = (x**2) + 3\n",
        "y_noise = y+noise\n",
        "\n",
        "model = nn.Sequential(\n",
        "    nn.Linear(1,6),\n",
        "    nn.ReLU(),\n",
        "    nn.Linear(6,10),\n",
        "    nn.ReLU(),\n",
        "    nn.Linear(10,6),\n",
        "    nn.ReLU(),\n",
        "    nn.Linear(6,1),\n",
        ")\n",
        "\n",
        "loss_func = nn.L1Loss()\n",
        "optimizer = optim.SGD(model.parameters(), lr =0.0002)\n",
        "loss_array = []\n",
        "\n",
        "for i in range(num_epoch):\n",
        "    optimizer.zero_grad()\n",
        "    output = model(x)\n",
        "    loss = loss_func(output,y_noise)\n",
        "    loss.backward()\n",
        "    optimizer.step()\n",
        "\n",
        "    loss_array.append(loss)\n",
        "    "
      ],
      "execution_count": null,
      "outputs": []
    },
    {
      "cell_type": "code",
      "metadata": {
        "colab": {
          "base_uri": "https://localhost:8080/",
          "height": 265
        },
        "id": "54Q46NaYEaoE",
        "outputId": "72c7bf7d-3e43-4783-c29e-11d584e0a9d5"
      },
      "source": [
        "import matplotlib.pyplot as plt\n",
        "\n",
        "plt.plot(loss_array)\n",
        "plt.show()"
      ],
      "execution_count": null,
      "outputs": [
        {
          "output_type": "display_data",
          "data": {
            "image/png": "[encoded data removed]",
            "text/plain": [
              "<Figure size 432x288 with 1 Axes>"
            ]
          },
          "metadata": {
            "tags": [],
            "needs_background": "light"
          }
        }
      ]
    },
    {
      "cell_type": "code",
      "metadata": {
        "id": "F_gOfYnuEhbC"
      },
      "source": [
        ""
      ],
      "execution_count": null,
      "outputs": []
    }
  ]
}